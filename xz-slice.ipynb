{
 "cells": [
  {
   "cell_type": "code",
   "execution_count": 9,
   "metadata": {
    "collapsed": true
   },
   "outputs": [],
   "source": [
    "from netCDF4 import Dataset\n",
    "import os\n",
    "import numpy as np\n",
    "import matplotlib.pyplot as plt\n",
    "import decomp_alllevels as deco\n",
    "from imp import reload\n",
    "import write_netCDF as write\n",
    "import amoc_plots as aplot\n",
    "import tools\n",
    "import xz_tools as xz_tools\n",
    "import numpy.ma as ma\n",
    "from scipy.interpolate import interp1d"
   ]
  },
  {
   "cell_type": "code",
   "execution_count": 30,
   "metadata": {
    "collapsed": false
   },
   "outputs": [],
   "source": [
    "case=\"11N\"\n",
    "\n",
    "if case==\"10S\":\n",
    "    path = \"/work/mh0256/m300522/data_storm/eddies/60-90/xz_10S-18S/aa\"\n",
    "    os.chdir(path)\n",
    "\n",
    "if case==\"11N\":\n",
    "    path = \"/work/mh0256/m300522/data_storm/eddies/60-90/xz_11N-18N/aa\"\n",
    "    os.chdir(path)\n",
    "\n",
    "if case==\"28S-40S\":\n",
    "    path = \"/work/mh0256/m300522/data_storm/eddies/60-90/xz_28S-40S/aa\"\n",
    "    os.chdir(path)\n",
    "\n",
    "if case==\"1S-18N\":\n",
    "    path = \"/work/mh0256/m300522/data_storm/eddies/60-90/xz_1S-18N/aa\"\n",
    "    os.chdir(path)\n",
    "    \n",
    "if case==\"5S\":\n",
    "    path = \"/work/mh0256/m300522/data_storm/eddies/60-90/xz_5S-10S/aa\"\n",
    "    os.chdir(path)\n",
    "    \n",
    "if case==\"1S\":\n",
    "    path = \"/work/mh0256/m300522/data_storm/eddies/60-90/xz_1S-8N/aa\"\n",
    "    os.chdir(path)\n",
    "\n",
    "if case==\"1S-10S\":\n",
    "    path = \"/work/mh0256/m300522/data_storm/eddies/60-90/xz_1S-10S/aa\"\n",
    "    os.chdir(path)\n",
    "\n",
    "if case==\"26N-29N\":\n",
    "    path = \"/work/mh0256/m300522/data_storm/eddies/60-90/xz_26N-29N/aa\"\n",
    "    os.chdir(path)\n",
    "\n",
    "if case == \"11N\":\n",
    "    lx=200 # for average 11N - 18N\n",
    "    rx=350 # for average\n",
    "    llon=212 # for plot\n",
    "    rlon=237 # for plot\n",
    "if case == \"10S\":\n",
    "    lx=380 # for average 10S - 18S\n",
    "    rx=600 # for average\n",
    "    llon=473 # for plot\n",
    "    rlon=498 # for plot\n",
    "\n",
    "if case == \"28S-40S\":\n",
    "    lx= 20 # for average 10S - 18S\n",
    "    rx= 180 # for average\n",
    "    llon=95 # for plot\n",
    "    rlon=120 # for plot\n",
    "\n",
    "if case == \"1S-18N\":\n",
    "    lx= 10 # for average 10S - 18S\n",
    "    rx= 250 # for average\n",
    "    llon=40 # for plot\n",
    "    rlon=90 # for plot\n",
    "\n",
    "if case == \"5S\":\n",
    "    lx= 10 # for average 10S - 18S\n",
    "    rx= 90 # for average\n",
    "    llon=22 # for plot\n",
    "    rlon=42 # for plot\n",
    "\n",
    "if case == \"1S\":\n",
    "    lx= 10 # for average 10S - 18S\n",
    "    rx= 190 # for average\n",
    "    llon=40 # for plot\n",
    "    rlon=70 # for plot\n",
    "    \n",
    "if case == \"1S-10S\":\n",
    "    lx= 70 # for average 1S-10S\n",
    "    rx= 250 # for average\n",
    "    llon=110 # for plot\n",
    "    rlon=135 # for plot\n",
    "\n",
    "if case == \"26N-29N\":\n",
    "    lx= 10 # for average 1S-10S\n",
    "    rx= 130 # for average\n",
    "    llon=67 # for plot\n",
    "    rlon=84 # for plot\n",
    "    \n",
    "llon2 = llon-lx\n",
    "rlon2 = llon-lx + (rlon -llon)"
   ]
  },
  {
   "cell_type": "code",
   "execution_count": 31,
   "metadata": {
    "collapsed": false
   },
   "outputs": [],
   "source": [
    "rho = tools.netread_data('../rhopoto_stripe.nc','rhopoto') # density\n",
    "lat,lon,depth = tools.netread_grid('../rhopoto_stripe.nc','lat','lon','depth_2')\n",
    "divUrho = tools.netread_data(\"../div_U+rho+_stripe.nc\",\"div_Urho_eddy\") # eddy flux divergence\n",
    "#dx_rho = tools.netread_data('dx_rhopoto_box.nc','dx_rhopoto') # zonal density gradient\n",
    "vke = tools.netread_data('../vke_p_stripe.nc','vke') # vke\n",
    "uko = tools.netread_data('../uko_p_stripe.nc','uko')\n",
    "# Get coastlines!\n",
    "\n",
    "filename='/work/mh0256/m300522/meta_storm/clines_30N35S.nc'\n",
    "fh_clines= Dataset(filename,mode='r')\n",
    "\n",
    "coastlines_ = fh_clines.variables[\"coastlines\"]\n",
    "clines = coastlines_[:,:].copy()\n",
    "clines = clines - 250 \n",
    "# Correct for the fact the clines was computed from a different box. Like this, clines refers to the current setting!\n",
    "\n",
    "# compute the tangent and normal component at each latitude and all depth levels from 20 to 70\n",
    "#tangent,normal = decomp_all.get_normals(clines,lat,lon)\n",
    "\n",
    "# Choose the depth levels that you are interested in\n",
    "ztop \t= 1000.\n",
    "zbot\t= 3200.\n",
    "\n",
    "tmp1 = min(depth[:], key=lambda x:abs(x-ztop))\n",
    "tmp = np.where(np.around(depth[:],decimals=1)==tmp1)[0]\n",
    "ktop = tmp[0]\n",
    "\n",
    "tmp1 = min(depth[:], key=lambda x:abs(x-zbot))\n",
    "tmp = np.where(np.around(depth[:],decimals=1)==tmp1)[0]\n",
    "kbot = tmp[0]\n",
    "\n",
    "# Take the zonal boundaries from clines\n",
    "if ktop >= 20:\n",
    "\tktop_ = ktop -20\n",
    "else:\n",
    "\tktop_ = 0\n",
    "\t\n",
    "\n",
    "# Now choose a latitude at which you want to have a x-z-slice\n",
    "latitude = 12.\n",
    "\n",
    "tmp = np.where(np.around(lat[:,400],decimals=1)==latitude)[0]\n",
    "ilat = tmp[0] # ilat is the latitude index that I want to look for\n",
    "\n",
    "# Now construct the cartesian grid\n",
    "x,z = np.meshgrid(lon[ilat,llon2:rlon2],depth[ktop:kbot])"
   ]
  },
  {
   "cell_type": "code",
   "execution_count": 32,
   "metadata": {
    "collapsed": false
   },
   "outputs": [
    {
     "data": {
      "image/png": "[encoded data removed]",
      "text/plain": [
       "<matplotlib.figure.Figure at 0x7effc2156d68>"
      ]
     },
     "metadata": {},
     "output_type": "display_data"
    }
   ],
   "source": [
    "# Extract data U want to plot\n",
    "#data_vrho \t= vrho[ktop3:kbot3,ilat3,iw:ie].copy()\n",
    "data_rho \t= rho[ktop:kbot,ilat,llon2:rlon2].copy()\n",
    "data_vke \t= vke[ktop:kbot,ilat,llon2:rlon2].copy()\n",
    "data_uko \t= uko[ktop:kbot,ilat,llon2:rlon2].copy()\n",
    "data_divUrho= divUrho[ktop:kbot,ilat,llon2:rlon2].copy()\n",
    "\n",
    "plt.contourf(x,-z,data_uko)\n",
    "plt.show()"
   ]
  },
  {
   "cell_type": "code",
   "execution_count": 19,
   "metadata": {
    "collapsed": false
   },
   "outputs": [
    {
     "data": {
      "text/plain": [
       "(80, 71, 651)"
      ]
     },
     "execution_count": 19,
     "metadata": {},
     "output_type": "execute_result"
    }
   ],
   "source": [
    "uko.shape"
   ]
  }
 ],
 "metadata": {
  "kernelspec": {
   "display_name": "Python 3",
   "language": "python",
   "name": "python3"
  },
  "language_info": {
   "codemirror_mode": {
    "name": "ipython",
    "version": 3
   },
   "file_extension": ".py",
   "mimetype": "text/x-python",
   "name": "python",
   "nbconvert_exporter": "python",
   "pygments_lexer": "ipython3",
   "version": "3.5.2"
  }
 },
 "nbformat": 4,
 "nbformat_minor": 1
}
